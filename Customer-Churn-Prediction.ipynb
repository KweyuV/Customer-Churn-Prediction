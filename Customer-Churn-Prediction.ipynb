{
 "cells": [
  {
   "cell_type": "markdown",
   "id": "fd331f30",
   "metadata": {},
   "source": [
    "**Notebook Author** : Valentine Kweyu.\n",
    "\n",
    "**Technical Mentor** : Maryann Mwikali.\n",
    "\n",
    "**Dataset** : [SyriaTel Customer Churn](https://www.kaggle.com/datasets/becksddf/churn-in-telecoms-dataset)."
   ]
  },
  {
   "cell_type": "markdown",
   "id": "9a9d59fb",
   "metadata": {
    "vscode": {
     "languageId": "plaintext"
    }
   },
   "source": [
    "# SyriaTel Customer Churn Prediction"
   ]
  },
  {
   "cell_type": "markdown",
   "id": "737eccc0",
   "metadata": {},
   "source": [
    "## Business Understanding\n",
    "### Business problem\n",
    "SyriaTel telecommunications company aims to reduce revenue loss caused by customer churn. We need to build a binary classification model ttat predicts which customers are likely to churn(number of customers who cease doing business with our company) based on their service patterns and account characteristics.\n",
    "\n",
    "**Business Impact**:\n",
    "- Churned customers directly impact SyriaTel telcom\n",
    "- Acquisition costs higher than retention costs\n",
    "- Proactive retention improves customer lifetime value to the company\n",
    "\n",
    "**Key Objectives**:\n",
    "1. Identify at-risk customers proactively\n",
    "2. Understand driving factors behind churn  \n",
    "3. Enable targeted retention campaigns \n",
    "\n",
    "**Success Metrics**:\n",
    "- High recall (capture maximum true churn cases)  \n",
    "- Interpretable feature importance\n",
    "- AUC-ROC > 0.90  "
   ]
  },
  {
   "cell_type": "markdown",
   "id": "493c96d3",
   "metadata": {},
   "source": [
    "## Data Understanding\n",
    "The dataset in use was obtained from [kaggle](https://www.kaggle.com/datasets/becksddf/churn-in-telecoms-dataset). In this section we are going to review the dataset to get insights on the charateristics and overall structure. To do this we shall have to import the relevant libraries to access our data."
   ]
  },
  {
   "cell_type": "code",
   "execution_count": 89,
   "id": "d06c0c43",
   "metadata": {},
   "outputs": [],
   "source": [
    "# Import necessary libraries\n",
    "\n",
    "import pandas as pd\n",
    "import numpy as np\n",
    "import matplotlib.pyplot as plt\n",
    "import seaborn as sns\n",
    "\n",
    "from sklearn.model_selection import train_test_split #Train-Test Split\n",
    "from sklearn.compose import ColumnTransformer \n",
    "from sklearn.preprocessing import OneHotEncoder, StandardScaler \n",
    "from sklearn.pipeline import Pipeline \n",
    "from imblearn.over_sampling import SMOTE # Handles Class Imbalance\n",
    "from sklearn.linear_model import LogisticRegression #Baseline Model Training\n",
    "from sklearn.ensemble import RandomForestClassifier #Baseline Model Training\n",
    "from sklearn.model_selection import cross_val_score #Baseline Model Training\n",
    "from sklearn.model_selection import GridSearchCV #Hyperparameter Tuning\n"
   ]
  },
  {
   "cell_type": "markdown",
   "id": "243c0ef9",
   "metadata": {},
   "source": [
    "1. **Load dataset**\n",
    "\n",
    "    We make use of pandas `(pd.read_csv)` to read our data from a csv file `Data\\Customer-Churn-Prediction.csv`."
   ]
  },
  {
   "cell_type": "code",
   "execution_count": 90,
   "id": "c6937bc1",
   "metadata": {},
   "outputs": [],
   "source": [
    "df = pd.read_csv('Data\\Customer-Churn-Prediction.csv')"
   ]
  },
  {
   "cell_type": "markdown",
   "id": "7675ea98",
   "metadata": {},
   "source": [
    "2. **Display data with `.head()` and data structure .**\n",
    "    \n",
    "    This is a display of the first five rows.\n",
    "    \n",
    "    We can also observe the number of rows and columns in our data. Which is 3333 rows and 21 columns. "
   ]
  },
  {
   "cell_type": "code",
   "execution_count": 91,
   "id": "11e07aa5",
   "metadata": {},
   "outputs": [
    {
     "data": {
      "text/html": [
       "<div>\n",
       "<style scoped>\n",
       "    .dataframe tbody tr th:only-of-type {\n",
       "        vertical-align: middle;\n",
       "    }\n",
       "\n",
       "    .dataframe tbody tr th {\n",
       "        vertical-align: top;\n",
       "    }\n",
       "\n",
       "    .dataframe thead th {\n",
       "        text-align: right;\n",
       "    }\n",
       "</style>\n",
       "<table border=\"1\" class=\"dataframe\">\n",
       "  <thead>\n",
       "    <tr style=\"text-align: right;\">\n",
       "      <th></th>\n",
       "      <th>state</th>\n",
       "      <th>account length</th>\n",
       "      <th>area code</th>\n",
       "      <th>phone number</th>\n",
       "      <th>international plan</th>\n",
       "      <th>voice mail plan</th>\n",
       "      <th>number vmail messages</th>\n",
       "      <th>total day minutes</th>\n",
       "      <th>total day calls</th>\n",
       "      <th>total day charge</th>\n",
       "      <th>...</th>\n",
       "      <th>total eve calls</th>\n",
       "      <th>total eve charge</th>\n",
       "      <th>total night minutes</th>\n",
       "      <th>total night calls</th>\n",
       "      <th>total night charge</th>\n",
       "      <th>total intl minutes</th>\n",
       "      <th>total intl calls</th>\n",
       "      <th>total intl charge</th>\n",
       "      <th>customer service calls</th>\n",
       "      <th>churn</th>\n",
       "    </tr>\n",
       "  </thead>\n",
       "  <tbody>\n",
       "    <tr>\n",
       "      <th>0</th>\n",
       "      <td>KS</td>\n",
       "      <td>128</td>\n",
       "      <td>415</td>\n",
       "      <td>382-4657</td>\n",
       "      <td>no</td>\n",
       "      <td>yes</td>\n",
       "      <td>25</td>\n",
       "      <td>265.1</td>\n",
       "      <td>110</td>\n",
       "      <td>45.07</td>\n",
       "      <td>...</td>\n",
       "      <td>99</td>\n",
       "      <td>16.78</td>\n",
       "      <td>244.7</td>\n",
       "      <td>91</td>\n",
       "      <td>11.01</td>\n",
       "      <td>10.0</td>\n",
       "      <td>3</td>\n",
       "      <td>2.70</td>\n",
       "      <td>1</td>\n",
       "      <td>False</td>\n",
       "    </tr>\n",
       "    <tr>\n",
       "      <th>1</th>\n",
       "      <td>OH</td>\n",
       "      <td>107</td>\n",
       "      <td>415</td>\n",
       "      <td>371-7191</td>\n",
       "      <td>no</td>\n",
       "      <td>yes</td>\n",
       "      <td>26</td>\n",
       "      <td>161.6</td>\n",
       "      <td>123</td>\n",
       "      <td>27.47</td>\n",
       "      <td>...</td>\n",
       "      <td>103</td>\n",
       "      <td>16.62</td>\n",
       "      <td>254.4</td>\n",
       "      <td>103</td>\n",
       "      <td>11.45</td>\n",
       "      <td>13.7</td>\n",
       "      <td>3</td>\n",
       "      <td>3.70</td>\n",
       "      <td>1</td>\n",
       "      <td>False</td>\n",
       "    </tr>\n",
       "    <tr>\n",
       "      <th>2</th>\n",
       "      <td>NJ</td>\n",
       "      <td>137</td>\n",
       "      <td>415</td>\n",
       "      <td>358-1921</td>\n",
       "      <td>no</td>\n",
       "      <td>no</td>\n",
       "      <td>0</td>\n",
       "      <td>243.4</td>\n",
       "      <td>114</td>\n",
       "      <td>41.38</td>\n",
       "      <td>...</td>\n",
       "      <td>110</td>\n",
       "      <td>10.30</td>\n",
       "      <td>162.6</td>\n",
       "      <td>104</td>\n",
       "      <td>7.32</td>\n",
       "      <td>12.2</td>\n",
       "      <td>5</td>\n",
       "      <td>3.29</td>\n",
       "      <td>0</td>\n",
       "      <td>False</td>\n",
       "    </tr>\n",
       "    <tr>\n",
       "      <th>3</th>\n",
       "      <td>OH</td>\n",
       "      <td>84</td>\n",
       "      <td>408</td>\n",
       "      <td>375-9999</td>\n",
       "      <td>yes</td>\n",
       "      <td>no</td>\n",
       "      <td>0</td>\n",
       "      <td>299.4</td>\n",
       "      <td>71</td>\n",
       "      <td>50.90</td>\n",
       "      <td>...</td>\n",
       "      <td>88</td>\n",
       "      <td>5.26</td>\n",
       "      <td>196.9</td>\n",
       "      <td>89</td>\n",
       "      <td>8.86</td>\n",
       "      <td>6.6</td>\n",
       "      <td>7</td>\n",
       "      <td>1.78</td>\n",
       "      <td>2</td>\n",
       "      <td>False</td>\n",
       "    </tr>\n",
       "    <tr>\n",
       "      <th>4</th>\n",
       "      <td>OK</td>\n",
       "      <td>75</td>\n",
       "      <td>415</td>\n",
       "      <td>330-6626</td>\n",
       "      <td>yes</td>\n",
       "      <td>no</td>\n",
       "      <td>0</td>\n",
       "      <td>166.7</td>\n",
       "      <td>113</td>\n",
       "      <td>28.34</td>\n",
       "      <td>...</td>\n",
       "      <td>122</td>\n",
       "      <td>12.61</td>\n",
       "      <td>186.9</td>\n",
       "      <td>121</td>\n",
       "      <td>8.41</td>\n",
       "      <td>10.1</td>\n",
       "      <td>3</td>\n",
       "      <td>2.73</td>\n",
       "      <td>3</td>\n",
       "      <td>False</td>\n",
       "    </tr>\n",
       "  </tbody>\n",
       "</table>\n",
       "<p>5 rows × 21 columns</p>\n",
       "</div>"
      ],
      "text/plain": [
       "  state  account length  area code phone number international plan  \\\n",
       "0    KS             128        415     382-4657                 no   \n",
       "1    OH             107        415     371-7191                 no   \n",
       "2    NJ             137        415     358-1921                 no   \n",
       "3    OH              84        408     375-9999                yes   \n",
       "4    OK              75        415     330-6626                yes   \n",
       "\n",
       "  voice mail plan  number vmail messages  total day minutes  total day calls  \\\n",
       "0             yes                     25              265.1              110   \n",
       "1             yes                     26              161.6              123   \n",
       "2              no                      0              243.4              114   \n",
       "3              no                      0              299.4               71   \n",
       "4              no                      0              166.7              113   \n",
       "\n",
       "   total day charge  ...  total eve calls  total eve charge  \\\n",
       "0             45.07  ...               99             16.78   \n",
       "1             27.47  ...              103             16.62   \n",
       "2             41.38  ...              110             10.30   \n",
       "3             50.90  ...               88              5.26   \n",
       "4             28.34  ...              122             12.61   \n",
       "\n",
       "   total night minutes  total night calls  total night charge  \\\n",
       "0                244.7                 91               11.01   \n",
       "1                254.4                103               11.45   \n",
       "2                162.6                104                7.32   \n",
       "3                196.9                 89                8.86   \n",
       "4                186.9                121                8.41   \n",
       "\n",
       "   total intl minutes  total intl calls  total intl charge  \\\n",
       "0                10.0                 3               2.70   \n",
       "1                13.7                 3               3.70   \n",
       "2                12.2                 5               3.29   \n",
       "3                 6.6                 7               1.78   \n",
       "4                10.1                 3               2.73   \n",
       "\n",
       "   customer service calls  churn  \n",
       "0                       1  False  \n",
       "1                       1  False  \n",
       "2                       0  False  \n",
       "3                       2  False  \n",
       "4                       3  False  \n",
       "\n",
       "[5 rows x 21 columns]"
      ]
     },
     "execution_count": 91,
     "metadata": {},
     "output_type": "execute_result"
    }
   ],
   "source": [
    "df.head()"
   ]
  },
  {
   "cell_type": "code",
   "execution_count": 92,
   "id": "5f777cb9",
   "metadata": {},
   "outputs": [
    {
     "name": "stdout",
     "output_type": "stream",
     "text": [
      "(3333, 21)\n"
     ]
    }
   ],
   "source": [
    "print(df.shape)"
   ]
  },
  {
   "cell_type": "markdown",
   "id": "006cbb3c",
   "metadata": {},
   "source": [
    "3. **Get Data types and missing values in each subsequent column with `.info()`.**"
   ]
  },
  {
   "cell_type": "code",
   "execution_count": 93,
   "id": "785c08f7",
   "metadata": {},
   "outputs": [
    {
     "name": "stdout",
     "output_type": "stream",
     "text": [
      "<class 'pandas.core.frame.DataFrame'>\n",
      "RangeIndex: 3333 entries, 0 to 3332\n",
      "Data columns (total 21 columns):\n",
      " #   Column                  Non-Null Count  Dtype  \n",
      "---  ------                  --------------  -----  \n",
      " 0   state                   3333 non-null   object \n",
      " 1   account length          3333 non-null   int64  \n",
      " 2   area code               3333 non-null   int64  \n",
      " 3   phone number            3333 non-null   object \n",
      " 4   international plan      3333 non-null   object \n",
      " 5   voice mail plan         3333 non-null   object \n",
      " 6   number vmail messages   3333 non-null   int64  \n",
      " 7   total day minutes       3333 non-null   float64\n",
      " 8   total day calls         3333 non-null   int64  \n",
      " 9   total day charge        3333 non-null   float64\n",
      " 10  total eve minutes       3333 non-null   float64\n",
      " 11  total eve calls         3333 non-null   int64  \n",
      " 12  total eve charge        3333 non-null   float64\n",
      " 13  total night minutes     3333 non-null   float64\n",
      " 14  total night calls       3333 non-null   int64  \n",
      " 15  total night charge      3333 non-null   float64\n",
      " 16  total intl minutes      3333 non-null   float64\n",
      " 17  total intl calls        3333 non-null   int64  \n",
      " 18  total intl charge       3333 non-null   float64\n",
      " 19  customer service calls  3333 non-null   int64  \n",
      " 20  churn                   3333 non-null   bool   \n",
      "dtypes: bool(1), float64(8), int64(8), object(4)\n",
      "memory usage: 524.2+ KB\n"
     ]
    }
   ],
   "source": [
    "df.info()"
   ]
  },
  {
   "cell_type": "markdown",
   "id": "d192a71f",
   "metadata": {},
   "source": [
    "The dataframe shows that:\n",
    "\n",
    "1. 4 columns are of object datatype.\n",
    "2. 8 columns are of integer datatype.\n",
    "3. 8 columns are of float datatype.\n",
    "4. 1 column is of boolean datatype."
   ]
  },
  {
   "cell_type": "markdown",
   "id": "89703f8f",
   "metadata": {},
   "source": [
    "4. **Describe the numerical columns with `.describe()`**\n",
    "\n",
    "    This is a display of the count of non-null values, mean, standard deviation, minimum and maximum values, lower and upper quartile of each column in the data."
   ]
  },
  {
   "cell_type": "code",
   "execution_count": 94,
   "id": "0f8a67e2",
   "metadata": {},
   "outputs": [
    {
     "data": {
      "text/html": [
       "<div>\n",
       "<style scoped>\n",
       "    .dataframe tbody tr th:only-of-type {\n",
       "        vertical-align: middle;\n",
       "    }\n",
       "\n",
       "    .dataframe tbody tr th {\n",
       "        vertical-align: top;\n",
       "    }\n",
       "\n",
       "    .dataframe thead th {\n",
       "        text-align: right;\n",
       "    }\n",
       "</style>\n",
       "<table border=\"1\" class=\"dataframe\">\n",
       "  <thead>\n",
       "    <tr style=\"text-align: right;\">\n",
       "      <th></th>\n",
       "      <th>account length</th>\n",
       "      <th>area code</th>\n",
       "      <th>number vmail messages</th>\n",
       "      <th>total day minutes</th>\n",
       "      <th>total day calls</th>\n",
       "      <th>total day charge</th>\n",
       "      <th>total eve minutes</th>\n",
       "      <th>total eve calls</th>\n",
       "      <th>total eve charge</th>\n",
       "      <th>total night minutes</th>\n",
       "      <th>total night calls</th>\n",
       "      <th>total night charge</th>\n",
       "      <th>total intl minutes</th>\n",
       "      <th>total intl calls</th>\n",
       "      <th>total intl charge</th>\n",
       "      <th>customer service calls</th>\n",
       "    </tr>\n",
       "  </thead>\n",
       "  <tbody>\n",
       "    <tr>\n",
       "      <th>count</th>\n",
       "      <td>3333.000000</td>\n",
       "      <td>3333.000000</td>\n",
       "      <td>3333.000000</td>\n",
       "      <td>3333.000000</td>\n",
       "      <td>3333.000000</td>\n",
       "      <td>3333.000000</td>\n",
       "      <td>3333.000000</td>\n",
       "      <td>3333.000000</td>\n",
       "      <td>3333.000000</td>\n",
       "      <td>3333.000000</td>\n",
       "      <td>3333.000000</td>\n",
       "      <td>3333.000000</td>\n",
       "      <td>3333.000000</td>\n",
       "      <td>3333.000000</td>\n",
       "      <td>3333.000000</td>\n",
       "      <td>3333.000000</td>\n",
       "    </tr>\n",
       "    <tr>\n",
       "      <th>mean</th>\n",
       "      <td>101.064806</td>\n",
       "      <td>437.182418</td>\n",
       "      <td>8.099010</td>\n",
       "      <td>179.775098</td>\n",
       "      <td>100.435644</td>\n",
       "      <td>30.562307</td>\n",
       "      <td>200.980348</td>\n",
       "      <td>100.114311</td>\n",
       "      <td>17.083540</td>\n",
       "      <td>200.872037</td>\n",
       "      <td>100.107711</td>\n",
       "      <td>9.039325</td>\n",
       "      <td>10.237294</td>\n",
       "      <td>4.479448</td>\n",
       "      <td>2.764581</td>\n",
       "      <td>1.562856</td>\n",
       "    </tr>\n",
       "    <tr>\n",
       "      <th>std</th>\n",
       "      <td>39.822106</td>\n",
       "      <td>42.371290</td>\n",
       "      <td>13.688365</td>\n",
       "      <td>54.467389</td>\n",
       "      <td>20.069084</td>\n",
       "      <td>9.259435</td>\n",
       "      <td>50.713844</td>\n",
       "      <td>19.922625</td>\n",
       "      <td>4.310668</td>\n",
       "      <td>50.573847</td>\n",
       "      <td>19.568609</td>\n",
       "      <td>2.275873</td>\n",
       "      <td>2.791840</td>\n",
       "      <td>2.461214</td>\n",
       "      <td>0.753773</td>\n",
       "      <td>1.315491</td>\n",
       "    </tr>\n",
       "    <tr>\n",
       "      <th>min</th>\n",
       "      <td>1.000000</td>\n",
       "      <td>408.000000</td>\n",
       "      <td>0.000000</td>\n",
       "      <td>0.000000</td>\n",
       "      <td>0.000000</td>\n",
       "      <td>0.000000</td>\n",
       "      <td>0.000000</td>\n",
       "      <td>0.000000</td>\n",
       "      <td>0.000000</td>\n",
       "      <td>23.200000</td>\n",
       "      <td>33.000000</td>\n",
       "      <td>1.040000</td>\n",
       "      <td>0.000000</td>\n",
       "      <td>0.000000</td>\n",
       "      <td>0.000000</td>\n",
       "      <td>0.000000</td>\n",
       "    </tr>\n",
       "    <tr>\n",
       "      <th>25%</th>\n",
       "      <td>74.000000</td>\n",
       "      <td>408.000000</td>\n",
       "      <td>0.000000</td>\n",
       "      <td>143.700000</td>\n",
       "      <td>87.000000</td>\n",
       "      <td>24.430000</td>\n",
       "      <td>166.600000</td>\n",
       "      <td>87.000000</td>\n",
       "      <td>14.160000</td>\n",
       "      <td>167.000000</td>\n",
       "      <td>87.000000</td>\n",
       "      <td>7.520000</td>\n",
       "      <td>8.500000</td>\n",
       "      <td>3.000000</td>\n",
       "      <td>2.300000</td>\n",
       "      <td>1.000000</td>\n",
       "    </tr>\n",
       "    <tr>\n",
       "      <th>50%</th>\n",
       "      <td>101.000000</td>\n",
       "      <td>415.000000</td>\n",
       "      <td>0.000000</td>\n",
       "      <td>179.400000</td>\n",
       "      <td>101.000000</td>\n",
       "      <td>30.500000</td>\n",
       "      <td>201.400000</td>\n",
       "      <td>100.000000</td>\n",
       "      <td>17.120000</td>\n",
       "      <td>201.200000</td>\n",
       "      <td>100.000000</td>\n",
       "      <td>9.050000</td>\n",
       "      <td>10.300000</td>\n",
       "      <td>4.000000</td>\n",
       "      <td>2.780000</td>\n",
       "      <td>1.000000</td>\n",
       "    </tr>\n",
       "    <tr>\n",
       "      <th>75%</th>\n",
       "      <td>127.000000</td>\n",
       "      <td>510.000000</td>\n",
       "      <td>20.000000</td>\n",
       "      <td>216.400000</td>\n",
       "      <td>114.000000</td>\n",
       "      <td>36.790000</td>\n",
       "      <td>235.300000</td>\n",
       "      <td>114.000000</td>\n",
       "      <td>20.000000</td>\n",
       "      <td>235.300000</td>\n",
       "      <td>113.000000</td>\n",
       "      <td>10.590000</td>\n",
       "      <td>12.100000</td>\n",
       "      <td>6.000000</td>\n",
       "      <td>3.270000</td>\n",
       "      <td>2.000000</td>\n",
       "    </tr>\n",
       "    <tr>\n",
       "      <th>max</th>\n",
       "      <td>243.000000</td>\n",
       "      <td>510.000000</td>\n",
       "      <td>51.000000</td>\n",
       "      <td>350.800000</td>\n",
       "      <td>165.000000</td>\n",
       "      <td>59.640000</td>\n",
       "      <td>363.700000</td>\n",
       "      <td>170.000000</td>\n",
       "      <td>30.910000</td>\n",
       "      <td>395.000000</td>\n",
       "      <td>175.000000</td>\n",
       "      <td>17.770000</td>\n",
       "      <td>20.000000</td>\n",
       "      <td>20.000000</td>\n",
       "      <td>5.400000</td>\n",
       "      <td>9.000000</td>\n",
       "    </tr>\n",
       "  </tbody>\n",
       "</table>\n",
       "</div>"
      ],
      "text/plain": [
       "       account length    area code  number vmail messages  total day minutes  \\\n",
       "count     3333.000000  3333.000000            3333.000000        3333.000000   \n",
       "mean       101.064806   437.182418               8.099010         179.775098   \n",
       "std         39.822106    42.371290              13.688365          54.467389   \n",
       "min          1.000000   408.000000               0.000000           0.000000   \n",
       "25%         74.000000   408.000000               0.000000         143.700000   \n",
       "50%        101.000000   415.000000               0.000000         179.400000   \n",
       "75%        127.000000   510.000000              20.000000         216.400000   \n",
       "max        243.000000   510.000000              51.000000         350.800000   \n",
       "\n",
       "       total day calls  total day charge  total eve minutes  total eve calls  \\\n",
       "count      3333.000000       3333.000000        3333.000000      3333.000000   \n",
       "mean        100.435644         30.562307         200.980348       100.114311   \n",
       "std          20.069084          9.259435          50.713844        19.922625   \n",
       "min           0.000000          0.000000           0.000000         0.000000   \n",
       "25%          87.000000         24.430000         166.600000        87.000000   \n",
       "50%         101.000000         30.500000         201.400000       100.000000   \n",
       "75%         114.000000         36.790000         235.300000       114.000000   \n",
       "max         165.000000         59.640000         363.700000       170.000000   \n",
       "\n",
       "       total eve charge  total night minutes  total night calls  \\\n",
       "count       3333.000000          3333.000000        3333.000000   \n",
       "mean          17.083540           200.872037         100.107711   \n",
       "std            4.310668            50.573847          19.568609   \n",
       "min            0.000000            23.200000          33.000000   \n",
       "25%           14.160000           167.000000          87.000000   \n",
       "50%           17.120000           201.200000         100.000000   \n",
       "75%           20.000000           235.300000         113.000000   \n",
       "max           30.910000           395.000000         175.000000   \n",
       "\n",
       "       total night charge  total intl minutes  total intl calls  \\\n",
       "count         3333.000000         3333.000000       3333.000000   \n",
       "mean             9.039325           10.237294          4.479448   \n",
       "std              2.275873            2.791840          2.461214   \n",
       "min              1.040000            0.000000          0.000000   \n",
       "25%              7.520000            8.500000          3.000000   \n",
       "50%              9.050000           10.300000          4.000000   \n",
       "75%             10.590000           12.100000          6.000000   \n",
       "max             17.770000           20.000000         20.000000   \n",
       "\n",
       "       total intl charge  customer service calls  \n",
       "count        3333.000000             3333.000000  \n",
       "mean            2.764581                1.562856  \n",
       "std             0.753773                1.315491  \n",
       "min             0.000000                0.000000  \n",
       "25%             2.300000                1.000000  \n",
       "50%             2.780000                1.000000  \n",
       "75%             3.270000                2.000000  \n",
       "max             5.400000                9.000000  "
      ]
     },
     "execution_count": 94,
     "metadata": {},
     "output_type": "execute_result"
    }
   ],
   "source": [
    "df.describe()"
   ]
  },
  {
   "cell_type": "markdown",
   "id": "121421df",
   "metadata": {},
   "source": [
    "### Dataset Overview\n",
    "- **Records** : 3,333 customers  \n",
    "- **Features** : 20 attributes + target variable  \n",
    "- **Target** : `churn` (boolean: True = churned)  \n",
    "\n",
    "### Feature Categories\n",
    "Information about churn will be obtained from the following features\n",
    "1. **Account Information**:  \n",
    "   - `international_plan`, `voice_mail_plan`, `number_vmail_messages`  \n",
    "2. **Usage Metrics**:  \n",
    "   - `total_day_minutes`, `total_eve_minutes`, `total_night_minutes`  \n",
    "   - Corresponding charge fields  \n",
    "3. **Customer Service**:  \n",
    "   - `customer_service_calls`  \n",
    "4. **Demographics**:  \n",
    "   - `state`, `area_code`  "
   ]
  },
  {
   "cell_type": "markdown",
   "id": "1ac788c6",
   "metadata": {},
   "source": [
    "### Data Preparation\n",
    "#### Data cleaning\n",
    "This process will involve checking for duplicates and missing values. If duplicates or missing values are found in the data, cleaning shall be performed and also converting datatypes to usable features."
   ]
  },
  {
   "cell_type": "code",
   "execution_count": 105,
   "id": "cc744f8e",
   "metadata": {},
   "outputs": [
    {
     "data": {
      "text/plain": [
       "0"
      ]
     },
     "execution_count": 105,
     "metadata": {},
     "output_type": "execute_result"
    }
   ],
   "source": [
    "# Check for duplicates\n",
    "df.duplicated().sum()"
   ]
  },
  {
   "cell_type": "markdown",
   "id": "6e276c57",
   "metadata": {},
   "source": [
    "We observe no duplicate values in our data."
   ]
  },
  {
   "cell_type": "code",
   "execution_count": 96,
   "id": "1cfdfe94",
   "metadata": {},
   "outputs": [
    {
     "data": {
      "text/plain": [
       "state                     0\n",
       "account length            0\n",
       "area code                 0\n",
       "phone number              0\n",
       "international plan        0\n",
       "voice mail plan           0\n",
       "number vmail messages     0\n",
       "total day minutes         0\n",
       "total day calls           0\n",
       "total day charge          0\n",
       "total eve minutes         0\n",
       "total eve calls           0\n",
       "total eve charge          0\n",
       "total night minutes       0\n",
       "total night calls         0\n",
       "total night charge        0\n",
       "total intl minutes        0\n",
       "total intl calls          0\n",
       "total intl charge         0\n",
       "customer service calls    0\n",
       "churn                     0\n",
       "dtype: int64"
      ]
     },
     "execution_count": 96,
     "metadata": {},
     "output_type": "execute_result"
    }
   ],
   "source": [
    "# Check for missing values\n",
    "\n",
    "df.isna().sum()"
   ]
  },
  {
   "cell_type": "markdown",
   "id": "5a910857",
   "metadata": {},
   "source": [
    "There are no missing values in the data as well."
   ]
  },
  {
   "cell_type": "markdown",
   "id": "192db838",
   "metadata": {},
   "source": [
    "## Exploratory Data Analysis"
   ]
  },
  {
   "cell_type": "markdown",
   "id": "5218d5b9",
   "metadata": {},
   "source": [
    "### Initial Observations"
   ]
  },
  {
   "cell_type": "code",
   "execution_count": 97,
   "id": "19e769c0",
   "metadata": {},
   "outputs": [
    {
     "data": {
      "image/png": "[encoded data removed]",
      "text/plain": [
       "<Figure size 576x432 with 1 Axes>"
      ]
     },
     "metadata": {
      "needs_background": "light"
     },
     "output_type": "display_data"
    },
    {
     "name": "stdout",
     "output_type": "stream",
     "text": [
      "Churn rate: 14.5%\n"
     ]
    }
   ],
   "source": [
    "# Target distribution (Churn column)\n",
    "plt.figure(figsize=(8,6))\n",
    "sns.countplot(x='churn', data=df)\n",
    "plt.title('Churn Distribution (Imbalanced Dataset)')\n",
    "plt.show()\n",
    "\n",
    "print(f\"Churn rate: {df.churn.mean():.1%}\")"
   ]
  },
  {
   "cell_type": "markdown",
   "id": "5093642c",
   "metadata": {},
   "source": [
    "**Observations:**\n",
    "\n",
    "1. No missing values\n",
    "\n",
    "2. High class imbalance (14.5% churn rate)\n",
    "\n",
    "3. Phone number and area code may not be useful predictors"
   ]
  },
  {
   "cell_type": "markdown",
   "id": "64399675",
   "metadata": {},
   "source": [
    "### Correlation Analysis"
   ]
  },
  {
   "cell_type": "markdown",
   "id": "14942e84",
   "metadata": {},
   "source": [
    "#### Correlation with churn"
   ]
  },
  {
   "cell_type": "code",
   "execution_count": 98,
   "id": "1442237b",
   "metadata": {},
   "outputs": [
    {
     "data": {
      "image/png": "[encoded data removed]",
      "text/plain": [
       "<Figure size 1152x720 with 2 Axes>"
      ]
     },
     "metadata": {
      "needs_background": "light"
     },
     "output_type": "display_data"
    }
   ],
   "source": [
    "# Corrected column name access\n",
    "df['international_plan'] = df['international plan'].map({'yes':1, 'no':0})\n",
    "df['voice_mail_plan'] = df['voice mail plan'].map({'yes':1, 'no':0})\n",
    "df['churn_numeric'] = df['churn'].map({False:0, True:1})\n",
    "\n",
    "\n",
    "# Correlation matrix with churn \n",
    "corr = df.corr()\n",
    "\n",
    "# plot heat map\n",
    "plt.figure(figsize=(16,10))\n",
    "sns.heatmap(corr[abs(corr['churn_numeric']) > 0.1], \n",
    "            annot=True, cmap='coolwarm', fmt='.2f')\n",
    "plt.title('Features Correlating with Churn |r| > 0.1')\n",
    "plt.show()"
   ]
  },
  {
   "cell_type": "markdown",
   "id": "fa223b50",
   "metadata": {},
   "source": [
    "Interpretation of the Correlation Heatmap\n",
    "This heatmap visualizes the correlation coefficients between key numerical features in the SyriaTel customer churn dataset. Here’s what it shows:\n",
    "\n",
    "1. **Perfect Correlations (r = 1.0)**\n",
    "\n",
    "    - `total_day_minutes` and `total_day_charge`\n",
    "    - `total_intl_minutes` and `total_intl_charge`\n",
    "    - `total_eve_minutes` and `total_eve_charge`\n",
    "    - `total_night_minutes` and `total_night_charge`\n",
    "\n",
    "These pairs are perfectly correlated (r=1.0) because the charge columns are directly calculated from the corresponding minutes columns. This means one of each pair is redundant for modeling.\n",
    "\n",
    "2. **Moderate Correlations (r ≈ 0.21–0.26)**\n",
    "\n",
    "    - `total_day_minutes` and `total_intl_minutes` (r=0.21)\n",
    "    - `total_eve_minutes` and `total_intl_minutes` (r=0.26)\n",
    "    - `total_day_charge` and `total_intl_charge` (r=0.21)\n",
    "    - `total_eve_charge` and `total_intl_charge` (r=0.26)\n",
    "\n",
    "Customers who use more minutes during the day or evening also tend to use more international minutes, but the relationship is moderate.\n",
    "\n",
    "3. **Weak or No Correlation (|r| < 0.1)**\n",
    "\n",
    "Most \"other\" feature pairs have very low correlation coefficients, indicating little to no linear relationship.\n",
    "\n",
    "4. **Slight Negative Correlations**\n",
    "\n",
    "    - `number_vmail_messages` and `total_intl_charge` (r=-0.1)\n",
    "    - `number_vmail_messages` and `customer_service_calls` (r=-0.018)\n",
    "\n",
    "Customers with more voicemail messages tend to have slightly lower international charges and make slightly fewer customer service calls, but these relationships are weak.\n",
    "\n",
    "**Key Takeaways**:\n",
    "\n",
    "1. Remove redundant features: For each minutes/charge pair, keep only one to avoid multicollinearity.\n",
    "2. Feature engineering: Consider combining moderately correlated features for new insights.\n",
    "3. Most features are independent: This is good for modeling, as it reduces redundancy.\n",
    "\n",
    "\n",
    "This heatmap helps you quickly spot which features are closely related and which are not, guiding both feature selection and engineering for your churn prediction model."
   ]
  },
  {
   "cell_type": "markdown",
   "id": "7e6700b3",
   "metadata": {},
   "source": [
    "#### Feature-Target Relationships"
   ]
  },
  {
   "cell_type": "code",
   "execution_count": 99,
   "id": "7b2d19f1",
   "metadata": {},
   "outputs": [
    {
     "data": {
      "image/png": "[encoded data removed]",
      "text/plain": [
       "<Figure size 1296x360 with 3 Axes>"
      ]
     },
     "metadata": {
      "needs_background": "light"
     },
     "output_type": "display_data"
    }
   ],
   "source": [
    "fig, ax = plt.subplots(1, 3, figsize=(18,5))\n",
    "\n",
    "# International plan impact\n",
    "sns.barplot(x='international_plan', y='churn_numeric', data=df, ax=ax[0])\n",
    "ax[0].set_title('Churn Rate by International Plan')\n",
    "\n",
    "# Customer service calls\n",
    "sns.countplot(x='customer service calls', hue='churn', data=df, ax=ax[1])\n",
    "ax[1].set_title('Churn by Customer Service Calls')\n",
    "\n",
    "# Total day minutes distribution\n",
    "sns.kdeplot(data=df, x='total day minutes', hue='churn', fill=True, ax=ax[2])\n",
    "ax[2].set_title('Day Minutes Distribution by Churn Status')\n",
    "\n",
    "plt.tight_layout()"
   ]
  },
  {
   "cell_type": "markdown",
   "id": "fbca38cc",
   "metadata": {},
   "source": [
    "1. **Churn Rate by International Plan**\n",
    "\n",
    "    Description:\n",
    "    - This bar plot shows the average churn rate for customers with and without an international plan. International plan subscribers churn at 42.4% vs 11.4% for others.\n",
    "\n",
    "    Interpretation:\n",
    "    - A higher bar for customers with the international plan indicates that these customers are more likely to churn compared to those without the plan. This suggests that having an international plan is associated with a higher risk of churn.\n",
    "\n",
    "2. **Churn by Customer Service Calls**\n",
    "    Description:\n",
    "    -This count plot displays the number of customers who churned or stayed, grouped by the number of customer service calls they made.\n",
    "\n",
    "    Interpretation:\n",
    "    -As the number of customer service calls increases, the proportion of customers who churn also increases(4+ service calls → 51% churn rate). This suggests that frequent calls to customer service may be a sign of dissatisfaction, leading to a higher likelihood of churn. \n",
    "\n",
    "3. **Day Minutes Distribution by Churn Status**\n",
    "    Description:\n",
    "    -This KDE (Kernel Density Estimate) plot shows the distribution of total day minutes used by customers, separated by churn status.\n",
    "    \n",
    "    Interpretation:\n",
    "    -The plot helps visualize whether customers who churn tend to use more or fewer day minutes compared to those who stay. Differences in the distributions can indicate if day-time usage is a factor in customer churn. It shows "
   ]
  },
  {
   "cell_type": "markdown",
   "id": "819cc193",
   "metadata": {},
   "source": [
    "### Data Preparation\n",
    "#### Feature Engineering"
   ]
  },
  {
   "cell_type": "code",
   "execution_count": null,
   "id": "5cef9eb2",
   "metadata": {},
   "outputs": [],
   "source": [
    "# Create total charge feature\n",
    "df['total_charge'] = df['total day charge'] + df['total eve charge'] + df['total night charge']\n",
    "\n",
    "# Drop non-predictive columns\n",
    "df = df.drop(['phone number', 'area code'], axis=1)\n",
    "\n",
    "# State reduction: Group low-frequency states\n",
    "state_counts = df['state'].value_counts()\n",
    "low_freq_states = state_counts[state_counts < 30].index\n",
    "df['state'] = df['state'].replace(low_freq_states, 'Other')"
   ]
  },
  {
   "cell_type": "markdown",
   "id": "e6f40f35",
   "metadata": {},
   "source": [
    "### Train-Test Split"
   ]
  },
  {
   "cell_type": "code",
   "execution_count": 104,
   "id": "c28fd513",
   "metadata": {},
   "outputs": [
    {
     "name": "stdout",
     "output_type": "stream",
     "text": [
      "Train size: (2666, 21), Test size: (667, 21)\n"
     ]
    }
   ],
   "source": [
    "# Separate features and target\n",
    "X = df.drop(['churn', 'churn_numeric'], axis=1)\n",
    "y = df['churn_numeric']\n",
    "\n",
    "# Stratified split to maintain class distribution\n",
    "X_train, X_test, y_train, y_test = train_test_split(\n",
    "    X, y, test_size=0.2, stratify=y, random_state=42\n",
    ")\n",
    "print(f\"Train size: {X_train.shape}, Test size: {X_test.shape}\")"
   ]
  },
  {
   "cell_type": "markdown",
   "id": "ab37829b",
   "metadata": {},
   "source": [
    "**Feature and Target Separation:**\n",
    "  - `X = df.drop(['churn', 'churn_numeric'], axis=1)`:  \n",
    "    This line creates the feature matrix `X` by removing the target columns `'churn'` and `'churn_numeric'` from the DataFrame. All remaining columns are used as input features for the model.\n",
    "  - `y = df['churn_numeric']`:  \n",
    "    This line sets the target variable `y` as the `'churn_numeric'` column, which is a binary indicator (0 = not churned, 1 = churned).\n",
    "\n",
    "**Stratified Train-Test Split:**\n",
    "  - `train_test_split(...)`:  \n",
    "    This function splits the data into training and testing sets.  \n",
    "  - `test_size=0.2` means 20% of the data is reserved for testing, and 80% for training.\n",
    "  - `stratify=y` ensures that the proportion of churned and non-churned customers is maintained in both the training and  testing sets (important for imbalanced datasets).\n",
    "  - `random_state=42` sets a random seed for reproducibility.\n",
    "\n",
    "\n",
    "This process prepares the data for model training and evaluation while preserving the original class distribution."
   ]
  },
  {
   "cell_type": "markdown",
   "id": "0f505845",
   "metadata": {},
   "source": []
  },
  {
   "cell_type": "markdown",
   "id": "c0456f13",
   "metadata": {},
   "source": []
  }
 ],
 "metadata": {
  "kernelspec": {
   "display_name": "learn-env",
   "language": "python",
   "name": "python3"
  },
  "language_info": {
   "codemirror_mode": {
    "name": "ipython",
    "version": 3
   },
   "file_extension": ".py",
   "mimetype": "text/x-python",
   "name": "python",
   "nbconvert_exporter": "python",
   "pygments_lexer": "ipython3",
   "version": "3.8.5"
  }
 },
 "nbformat": 4,
 "nbformat_minor": 5
}
