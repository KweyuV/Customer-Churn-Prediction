{
 "cells": [
  {
   "cell_type": "markdown",
   "id": "fd331f30",
   "metadata": {},
   "source": [
    "**Notebook Author** : Valentine Kweyu.\n",
    "\n",
    "**Technical Mentor** : Maryann Mwikali.\n",
    "\n",
    "**Dataset** : [SyriaTel Customer Churn](https://www.kaggle.com/datasets/becksddf/churn-in-telecoms-dataset)."
   ]
  },
  {
   "cell_type": "markdown",
   "id": "9a9d59fb",
   "metadata": {
    "vscode": {
     "languageId": "plaintext"
    }
   },
   "source": [
    "# SyriaTel Customer Churn Prediction"
   ]
  },
  {
   "cell_type": "markdown",
   "id": "737eccc0",
   "metadata": {},
   "source": [
    "## Business Understanding\n",
    "### Business problem\n",
    "SyriaTel telecommunications company aims to reduce revenue loss caused by customer churn. We need to build a binary classification model ttat predicts which customers are likely to churn(number of customers who cease doing business with our company) based on their service patterns and account characteristics.\n",
    "\n",
    "**Business Impact**:\n",
    "- Churned customers directly impact SyriaTel telcom\n",
    "- Acquisition costs higher than retention costs\n",
    "- Proactive retention improves customer lifetime value to the company\n",
    "\n",
    "**Key Objectives**:\n",
    "1. Identify at-risk customers proactively\n",
    "2. Understand driving factors behind churn  \n",
    "3. Enable targeted retention campaigns \n",
    "\n",
    "**Success Metrics**:\n",
    "- High recall (capture maximum true churn cases)  \n",
    "- Interpretable feature importance\n",
    "- AUC-ROC > 0.90  "
   ]
  },
  {
   "cell_type": "markdown",
   "id": "493c96d3",
   "metadata": {},
   "source": [
    "## Data Understanding"
   ]
  }
 ],
 "metadata": {
  "kernelspec": {
   "display_name": "learn-env",
   "language": "python",
   "name": "python3"
  },
  "language_info": {
   "name": "python",
   "version": "3.8.5"
  }
 },
 "nbformat": 4,
 "nbformat_minor": 5
}
